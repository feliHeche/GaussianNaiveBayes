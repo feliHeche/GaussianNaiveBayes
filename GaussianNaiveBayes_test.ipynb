{
 "cells": [
  {
   "cell_type": "markdown",
   "id": "52429bdc",
   "metadata": {},
   "source": [
    "# Gaussian Naive Bayes: custom implementation vs scikit-learn\n",
    "\n",
    "This notebook tests our implementation of the Gaussian Naive Bayes classifier and compares its performance with model provided by `scikit-learn`."
   ]
  },
  {
   "cell_type": "markdown",
   "id": "9fdd912a",
   "metadata": {},
   "source": [
    "First, we import all required packages."
   ]
  },
  {
   "cell_type": "code",
   "execution_count": 1,
   "id": "3e57448d",
   "metadata": {},
   "outputs": [],
   "source": [
    "from GaussianNaiveBayes import GaussianNaiveBayes\n",
    "import numpy as np\n",
    "from sklearn import datasets\n",
    "from sklearn.model_selection import train_test_split\n",
    "from sklearn.naive_bayes import GaussianNB\n",
    "from sklearn.metrics import accuracy_score, classification_report, ConfusionMatrixDisplay"
   ]
  },
  {
   "cell_type": "markdown",
   "id": "64a6c688",
   "metadata": {},
   "source": [
    "### 1. Load and explore dataset\n",
    "\n",
    "First, we load and explore the dataset. Since we will use a toydataset provided by sklearn, there is actually almost nothing to do."
   ]
  },
  {
   "cell_type": "code",
   "execution_count": 2,
   "id": "55cf734b",
   "metadata": {},
   "outputs": [
    {
     "name": "stdout",
     "output_type": "stream",
     "text": [
      ".. _wine_dataset:\n",
      "\n",
      "Wine recognition dataset\n",
      "------------------------\n",
      "\n",
      "**Data Set Characteristics:**\n",
      "\n",
      "    :Number of Instances: 178 (50 in each of three classes)\n",
      "    :Number of Attributes: 13 numeric, predictive attributes and the class\n",
      "    :Attribute Information:\n",
      " \t\t- Alcohol\n",
      " \t\t- Malic acid\n",
      " \t\t- Ash\n",
      "\t\t- Alcalinity of ash  \n",
      " \t\t- Magnesium\n",
      "\t\t- Total phenols\n",
      " \t\t- Flavanoids\n",
      " \t\t- Nonflavanoid phenols\n",
      " \t\t- Proanthocyanins\n",
      "\t\t- Color intensity\n",
      " \t\t- Hue\n",
      " \t\t- OD280/OD315 of diluted wines\n",
      " \t\t- Proline\n",
      "\n",
      "    - class:\n",
      "            - class_0\n",
      "            - class_1\n",
      "            - class_2\n",
      "\t\t\n",
      "    :Summary Statistics:\n",
      "    \n",
      "    ============================= ==== ===== ======= =====\n",
      "                                   Min   Max   Mean     SD\n",
      "    ============================= ==== ===== ======= =====\n",
      "    Alcohol:                      11.0  14.8    13.0   0.8\n",
      "    Malic Acid:                   0.74  5.80    2.34  1.12\n",
      "    Ash:                          1.36  3.23    2.36  0.27\n",
      "    Alcalinity of Ash:            10.6  30.0    19.5   3.3\n",
      "    Magnesium:                    70.0 162.0    99.7  14.3\n",
      "    Total Phenols:                0.98  3.88    2.29  0.63\n",
      "    Flavanoids:                   0.34  5.08    2.03  1.00\n",
      "    Nonflavanoid Phenols:         0.13  0.66    0.36  0.12\n",
      "    Proanthocyanins:              0.41  3.58    1.59  0.57\n",
      "    Colour Intensity:              1.3  13.0     5.1   2.3\n",
      "    Hue:                          0.48  1.71    0.96  0.23\n",
      "    OD280/OD315 of diluted wines: 1.27  4.00    2.61  0.71\n",
      "    Proline:                       278  1680     746   315\n",
      "    ============================= ==== ===== ======= =====\n",
      "\n",
      "    :Missing Attribute Values: None\n",
      "    :Class Distribution: class_0 (59), class_1 (71), class_2 (48)\n",
      "    :Creator: R.A. Fisher\n",
      "    :Donor: Michael Marshall (MARSHALL%PLU@io.arc.nasa.gov)\n",
      "    :Date: July, 1988\n",
      "\n",
      "This is a copy of UCI ML Wine recognition datasets.\n",
      "https://archive.ics.uci.edu/ml/machine-learning-databases/wine/wine.data\n",
      "\n",
      "The data is the results of a chemical analysis of wines grown in the same\n",
      "region in Italy by three different cultivators. There are thirteen different\n",
      "measurements taken for different constituents found in the three types of\n",
      "wine.\n",
      "\n",
      "Original Owners: \n",
      "\n",
      "Forina, M. et al, PARVUS - \n",
      "An Extendible Package for Data Exploration, Classification and Correlation. \n",
      "Institute of Pharmaceutical and Food Analysis and Technologies,\n",
      "Via Brigata Salerno, 16147 Genoa, Italy.\n",
      "\n",
      "Citation:\n",
      "\n",
      "Lichman, M. (2013). UCI Machine Learning Repository\n",
      "[https://archive.ics.uci.edu/ml]. Irvine, CA: University of California,\n",
      "School of Information and Computer Science. \n",
      "\n",
      ".. topic:: References\n",
      "\n",
      "  (1) S. Aeberhard, D. Coomans and O. de Vel, \n",
      "  Comparison of Classifiers in High Dimensional Settings, \n",
      "  Tech. Rep. no. 92-02, (1992), Dept. of Computer Science and Dept. of  \n",
      "  Mathematics and Statistics, James Cook University of North Queensland. \n",
      "  (Also submitted to Technometrics). \n",
      "\n",
      "  The data was used with many others for comparing various \n",
      "  classifiers. The classes are separable, though only RDA \n",
      "  has achieved 100% correct classification. \n",
      "  (RDA : 100%, QDA 99.4%, LDA 98.9%, 1NN 96.1% (z-transformed data)) \n",
      "  (All results using the leave-one-out technique) \n",
      "\n",
      "  (2) S. Aeberhard, D. Coomans and O. de Vel, \n",
      "  \"THE CLASSIFICATION PERFORMANCE OF RDA\" \n",
      "  Tech. Rep. no. 92-01, (1992), Dept. of Computer Science and Dept. of \n",
      "  Mathematics and Statistics, James Cook University of North Queensland. \n",
      "  (Also submitted to Journal of Chemometrics).\n",
      "\n"
     ]
    }
   ],
   "source": [
    "# load dataset\n",
    "wine_data = datasets.load_wine()\n",
    "\n",
    "# print dataset description\n",
    "print(wine_data.DESCR)\n"
   ]
  },
  {
   "cell_type": "markdown",
   "id": "f51273de",
   "metadata": {},
   "source": [
    "## 3. Split dataset into training and test sets"
   ]
  },
  {
   "cell_type": "markdown",
   "id": "1c5a7d67",
   "metadata": {},
   "source": [
    "Now, we split the dataset into the training and test sets. Note that since, Naive Bayes doesn't require any hyperparamtere, we don't need any validation dataset."
   ]
  },
  {
   "cell_type": "code",
   "execution_count": 3,
   "id": "59e607a8",
   "metadata": {},
   "outputs": [],
   "source": [
    "# separate data into training and test sets. \n",
    "X_train, X_test, Y_train, Y_test = train_test_split(wine_data.data, wine_data.target, test_size=0.3)"
   ]
  },
  {
   "cell_type": "markdown",
   "id": "ad983c4b",
   "metadata": {},
   "source": [
    "## 4. Train and test our Gaussian Naive Bayes model\n",
    "\n",
    "Now, we will train and test our implementation of Gaussian Naive Bayes. Please have a look to `NaiveBayes.py` for implementation details"
   ]
  },
  {
   "cell_type": "code",
   "execution_count": 4,
   "id": "eb0c62a2",
   "metadata": {},
   "outputs": [],
   "source": [
    "# model construction\n",
    "model = GaussianNaiveBayes(data=X_train, target=Y_train, feature_names=wine_data.feature_names)\n",
    "model.fit()\n",
    "\n",
    "\n",
    "# classify test samples\n",
    "preds = [model.classify(x_test) for x_test in X_test]"
   ]
  },
  {
   "cell_type": "code",
   "execution_count": 5,
   "id": "39ba1430",
   "metadata": {},
   "outputs": [
    {
     "name": "stdout",
     "output_type": "stream",
     "text": [
      "Classification Report for our implementation.\n",
      "              precision    recall  f1-score   support\n",
      "\n",
      "           0       1.00      1.00      1.00        14\n",
      "           1       1.00      0.96      0.98        23\n",
      "           2       0.94      1.00      0.97        17\n",
      "\n",
      "    accuracy                           0.98        54\n",
      "   macro avg       0.98      0.99      0.98        54\n",
      "weighted avg       0.98      0.98      0.98        54\n",
      "\n"
     ]
    }
   ],
   "source": [
    "# classification report\n",
    "print(\"Classification Report for our implementation.\")\n",
    "print(classification_report(Y_test, preds))"
   ]
  },
  {
   "cell_type": "code",
   "execution_count": 6,
   "id": "c1b1b510",
   "metadata": {},
   "outputs": [
    {
     "data": {
      "text/plain": [
       "<sklearn.metrics._plot.confusion_matrix.ConfusionMatrixDisplay at 0x224012ec4c0>"
      ]
     },
     "execution_count": 6,
     "metadata": {},
     "output_type": "execute_result"
    },
    {
     "data": {
      "image/png": "[encoded data removed]",
      "text/plain": [
       "<Figure size 432x288 with 2 Axes>"
      ]
     },
     "metadata": {
      "needs_background": "light"
     },
     "output_type": "display_data"
    }
   ],
   "source": [
    "# Confusion matrix\n",
    "ConfusionMatrixDisplay.from_predictions(Y_test, preds)"
   ]
  },
  {
   "cell_type": "markdown",
   "id": "8bd2ccfb",
   "metadata": {},
   "source": [
    "### 3. Comparison with scikit-learn implementation\n",
    "\n",
    "Finally, we will compare the performance of our model with the Gaussian Naive Bayes implementation provided by scikit-learn."
   ]
  },
  {
   "cell_type": "code",
   "execution_count": 7,
   "id": "8637cdb6",
   "metadata": {},
   "outputs": [],
   "source": [
    "# train scikit model\n",
    "scikit_model = GaussianNB()\n",
    "scikit_model.fit(X_train, Y_train)\n",
    "\n",
    "# classify test samples\n",
    "scikit_predictions =scikit_model.predict(X_test)"
   ]
  },
  {
   "cell_type": "code",
   "execution_count": 8,
   "id": "c56b9387",
   "metadata": {},
   "outputs": [
    {
     "name": "stdout",
     "output_type": "stream",
     "text": [
      "Classification Report for scikit-learn model.\n",
      "              precision    recall  f1-score   support\n",
      "\n",
      "           0       1.00      1.00      1.00        14\n",
      "           1       1.00      0.96      0.98        23\n",
      "           2       0.94      1.00      0.97        17\n",
      "\n",
      "    accuracy                           0.98        54\n",
      "   macro avg       0.98      0.99      0.98        54\n",
      "weighted avg       0.98      0.98      0.98        54\n",
      "\n"
     ]
    }
   ],
   "source": [
    "# Classification report\n",
    "print(\"Classification Report for scikit-learn model.\")\n",
    "print(classification_report(Y_test, scikit_predictions))"
   ]
  },
  {
   "cell_type": "code",
   "execution_count": 9,
   "id": "b231b8fe",
   "metadata": {},
   "outputs": [
    {
     "data": {
      "text/plain": [
       "<sklearn.metrics._plot.confusion_matrix.ConfusionMatrixDisplay at 0x2241db81f70>"
      ]
     },
     "execution_count": 9,
     "metadata": {},
     "output_type": "execute_result"
    },
    {
     "data": {
      "image/png": "[encoded data removed]",
      "text/plain": [
       "<Figure size 432x288 with 2 Axes>"
      ]
     },
     "metadata": {
      "needs_background": "light"
     },
     "output_type": "display_data"
    }
   ],
   "source": [
    "# confusion matrix\n",
    "ConfusionMatrixDisplay.from_predictions(Y_test, scikit_predictions)"
   ]
  },
  {
   "cell_type": "markdown",
   "id": "ce7ec32b",
   "metadata": {},
   "source": [
    "As expected, we found the same classification report and confusion matrix."
   ]
  }
 ],
 "metadata": {
  "kernelspec": {
   "display_name": "Python 3 (ipykernel)",
   "language": "python",
   "name": "python3"
  },
  "language_info": {
   "codemirror_mode": {
    "name": "ipython",
    "version": 3
   },
   "file_extension": ".py",
   "mimetype": "text/x-python",
   "name": "python",
   "nbconvert_exporter": "python",
   "pygments_lexer": "ipython3",
   "version": "3.9.12"
  }
 },
 "nbformat": 4,
 "nbformat_minor": 5
}
